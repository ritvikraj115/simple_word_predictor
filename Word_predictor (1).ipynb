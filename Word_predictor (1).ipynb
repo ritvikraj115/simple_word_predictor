{
  "cells": [
    {
      "cell_type": "code",
      "execution_count": 1,
      "metadata": {
        "id": "L8ytb6-HKee0"
      },
      "outputs": [],
      "source": [
        "essay=\"\"\"\n",
        "Global warming, an existential challenge of our era, stems from the accumulation of greenhouse gases in the Earth's atmosphere, predominantly carbon dioxide, methane, and nitrous oxide. These gases trap heat that would otherwise escape into space, leading to a warming effect known as the greenhouse effect. While a certain level of greenhouse gases is natural and necessary to maintain Earth's temperature conducive to life, human activities since the Industrial Revolution have significantly amplified these gases' concentration, primarily through the burning of fossil fuels, deforestation, and industrial processes.\n",
        "\n",
        "The consequences of global warming are multifaceted and far-reaching, impacting ecological systems, human societies, and economies worldwide. One of the most visible effects is the rapid melting of polar ice caps and glaciers. This accelerated ice loss contributes to rising sea levels, threatening low-lying coastal areas and island nations with inundation and increased vulnerability to storm surges and flooding. Coastal erosion is exacerbating, endangering infrastructure and habitats crucial for biodiversity.\n",
        "\n",
        "Moreover, global warming influences weather patterns, leading to more frequent and intense extreme weather events such as hurricanes, heatwaves, droughts, and heavy rainfall. These events not only pose immediate risks to human lives and property but also disrupt agriculture, water supply, and public health systems. For instance, prolonged droughts can lead to crop failures and food shortages, while heatwaves increase the incidence of heat-related illnesses and deaths, particularly among vulnerable populations such as the elderly and outdoor workers.\n",
        "\n",
        "Beyond its direct environmental and health impacts, global warming exacerbates existing social inequalities and economic disparities. Vulnerable communities, including indigenous peoples, minorities, and low-income populations, often bear the brunt of climate change's adverse effects despite contributing minimally to greenhouse gas emissions. They face challenges in adapting to changing conditions due to limited resources, inadequate infrastructure, and less access to information and support services.\n",
        "\n",
        "Economically, industries reliant on natural resources sensitive to climate change, such as agriculture, fisheries, and tourism, are particularly susceptible to disruptions caused by global warming. Losses in these sectors not only affect local economies but also have ripple effects on global supply chains and markets. Moreover, the costs associated with climate-related disasters, including emergency response, infrastructure repair, and loss of productivity, place a significant burden on national budgets and international aid efforts.\n",
        "\n",
        "Scientific consensus attributes the majority of global warming to human activities, particularly the burning of fossil fuels for energy production, transportation, and industrial processes. This has led to an increase in atmospheric carbon dioxide levels from around 280 parts per million (ppm) before the Industrial Revolution to over 415 ppm in recent years—a level unprecedented in at least the last 800,000 years.\n",
        "\n",
        "Addressing global warming requires urgent and concerted action at local, national, and international levels. The Paris Agreement, adopted in 2015 by nearly every country in the world, aims to limit global temperature rise well below 2 degrees Celsius above pre-industrial levels, with efforts to limit the increase to 1.5 degrees Celsius. Achieving these goals necessitates rapid and substantial reductions in greenhouse gas emissions, transitioning to renewable energy sources such as solar, wind, and hydroelectric power, and implementing energy-efficient technologies and practices across sectors.\n",
        "\n",
        "In addition to mitigation efforts, adaptation strategies are crucial to minimize the impacts of climate change on vulnerable communities and ecosystems. These strategies include enhancing resilience to extreme weather events, implementing sustainable land use and water management practices, and investing in climate-resilient infrastructure. Moreover, fostering international cooperation and partnerships is essential to mobilize resources, share knowledge and technology, and support developing countries in their climate action efforts.\n",
        "\n",
        "While the challenges posed by global warming are daunting, there is reason for hope. Innovations in clean energy technologies, such as electric vehicles, energy storage systems, and renewable energy sources, offer promising pathways to reduce emissions and transition towards a sustainable, low-carbon economy. Furthermore, grassroots movements, youth activism, and advocacy efforts are driving awareness and political momentum for ambitious climate action.\n",
        "\n",
        "Ultimately, addressing global warming requires a collective commitment to protect the planet's ecosystems, safeguard human health and well-being, and promote equitable and sustainable development for present and future generations. By taking bold and decisive action now, we can mitigate the worst impacts of climate change and create a resilient and prosperous future for all.\n",
        "\n",
        "\n",
        "Global warming, driven primarily by the accumulation of greenhouse gases like carbon dioxide and methane, poses a profound threat to global ecosystems, economies, and human well-being. Beyond melting polar ice caps and rising sea levels that endanger coastal communities, climate change intensifies extreme weather events, exacerbates biodiversity loss, and contributes to ocean acidification, threatening marine life and fisheries. Feedback loops, such as melting permafrost releasing methane, further amplify warming. This crisis also fuels displacement and migration due to environmental degradation, heightening social tensions and straining resources. Globally interconnected impacts include geopolitical instability from climate-induced conflicts over dwindling resources. Ethical considerations regarding fairness and intergenerational justice underscore the urgency of collective action. Education and awareness are pivotal in empowering societies to advocate for sustainable practices and policies. Innovation in clean technologies and renewable energy offers promising solutions, supporting both mitigation efforts and adaptation strategies crucial for building resilience. Addressing global warming demands immediate and concerted efforts to mitigate emissions, adapt to inevitable changes, and foster international cooperation towards a sustainable and equitable future for all.\n",
        "\n",
        "Global warming, driven primarily by the accumulation of greenhouse gases like carbon dioxide and methane, poses a profound threat to global ecosystems, economies, and human well-being. Beyond melting polar ice caps and rising sea levels that endanger coastal communities, climate change intensifies extreme weather events, exacerbates biodiversity loss, and contributes to ocean acidification, threatening marine life and fisheries. Feedback loops, such as melting permafrost releasing methane, further amplify warming. This crisis also fuels displacement and migration due to environmental degradation, heightening social tensions and straining resources. Globally interconnected impacts include geopolitical instability from climate-induced conflicts over dwindling resources. Ethical considerations regarding fairness and intergenerational justice underscore the urgency of collective action. Education and awareness are pivotal in empowering societies to advocate for sustainable practices and policies. Innovation in clean technologies and renewable energy offers promising solutions, supporting both mitigation efforts and adaptation strategies crucial for building resilience. Addressing global warming demands immediate and concerted efforts to mitigate emissions, adapt to inevitable changes, and foster international cooperation towards a sustainable and equitable future for all.\n",
        "\n",
        "The impacts of global warming on biodiversity are severe and accelerating. Species are facing rapid habitat loss and shifts in their ranges as ecosystems struggle to adapt to changing climates. Coral reefs, for instance, suffer from bleaching events due to warmer ocean temperatures, threatening the diverse marine life they support. Terrestrial ecosystems are also under pressure, with vulnerable species such as polar bears and mountain-dwelling mammals facing shrinking habitats. Moreover, the loss of biodiversity reduces the resilience of ecosystems to other environmental stresses, such as pollution and invasive species, further compromising their ability to provide essential services like clean water and air.\n",
        "\n",
        "Socially and economically, vulnerable populations bear the brunt of climate impacts despite contributing the least to greenhouse gas emissions. Low-income communities, indigenous peoples, and marginalized groups often lack resources and infrastructure to cope with extreme weather events and slow-onset climate changes like desertification or sea-level rise. This disparity exacerbates inequalities and can lead to social unrest and conflict over dwindling resources such as water and arable land. Climate refugees are increasingly seeking safety and livelihoods elsewhere, straining humanitarian systems and provoking debates over migration policies and responsibilities.\n",
        "\n",
        "The economic costs of inaction on climate change are substantial. Climate-related disasters, including hurricanes, floods, and wildfires, result in billions of dollars in damages annually, affecting sectors from agriculture to insurance and tourism. Businesses and governments face escalating costs for rebuilding infrastructure, restoring ecosystems, and addressing health impacts from heatwaves and air pollution. Transitioning to a low-carbon economy presents opportunities for job creation and economic growth, particularly in renewable energy sectors, but requires strategic investments and policies to ensure a just transition for workers and communities dependent on fossil fuel industries.\n",
        "\n",
        "Mitigating greenhouse gas emissions requires transformative changes across energy, transportation, industry, agriculture, and land-use sectors. This entails transitioning from fossil fuels to renewable energy sources such as solar, wind, and hydroelectric power, improving energy efficiency in buildings and transportation, and implementing policies to incentivize sustainable practices and technologies. The Paris Agreement provides a framework for global cooperation, setting ambitious targets to limit temperature rise and mobilize financial and technological support for developing countries. However, achieving these goals demands political will, robust implementation mechanisms, and ongoing monitoring and transparency to hold countries accountable for their commitments.\n",
        "\n",
        "Adaptation strategies are equally crucial to minimize the impacts of climate change on vulnerable communities and ecosystems. This includes investing in climate-resilient infrastructure, enhancing early warning systems for extreme weather events, and promoting sustainable land-use and water management practices. Indigenous knowledge and local innovations play a vital role in developing context-specific adaptation strategies that build on community strengths and resilience.\n",
        "\n",
        "Education and public awareness are fundamental in catalyzing climate action at all levels of society. By fostering understanding of climate science, impacts, and solutions, education empowers individuals to make informed choices in their daily lives, advocate for policy change, and participate in collective efforts to reduce emissions and build resilience. Media coverage, public discourse, and cultural initiatives also shape attitudes towards climate change, influencing political agendas and corporate behaviors towards sustainability and environmental stewardship.\n",
        "\n",
        "Innovation in technology and policy is essential to accelerate the transition to a low-carbon economy and enhance climate resilience. Research and development in areas such as carbon capture and storage, sustainable agriculture, and climate-friendly urban planning are critical for achieving long-term climate goals. Public-private partnerships and international collaborations can leverage expertise and resources to scale up innovative solutions and overcome barriers to adoption and implementation.\n",
        "\n",
        "Ethical considerations underpin the urgency of climate action, particularly in addressing historical and current disparities in emissions and vulnerabilities. Principles of justice, equity, and human rights are central to shaping fair and inclusive climate policies that prioritize the needs of marginalized communities and future generations. International climate negotiations must address these ethical dimensions to build trust, solidarity, and shared responsibility in tackling the global challenge of climate change.\n",
        "\n",
        "In conclusion, addressing global warming requires a holistic approach that integrates mitigation, adaptation, equity, and international cooperation. By committing to ambitious climate goals, investing in sustainable development, and empowering communities to adapt and thrive in a changing climate, humanity can forge a path towards a resilient and equitable future. The time for decisive action is now, as the consequences of inaction on climate change are already profound and will continue to escalate without concerted global efforts to mitigate and adapt to this defining challenge of the 21st century.\n",
        "\"\"\""
      ]
    },
    {
      "cell_type": "code",
      "execution_count": 2,
      "metadata": {
        "id": "_9ZEeuuJLD1m"
      },
      "outputs": [],
      "source": [
        "import tensorflow as tf\n",
        "import numpy as np\n",
        "from tensorflow.keras.preprocessing.text import Tokenizer"
      ]
    },
    {
      "cell_type": "code",
      "execution_count": 3,
      "metadata": {
        "id": "_9r-1w0PLIX6"
      },
      "outputs": [],
      "source": [
        "tokenizer=Tokenizer()"
      ]
    },
    {
      "cell_type": "code",
      "execution_count": 4,
      "metadata": {
        "id": "8REiG0ISLUql"
      },
      "outputs": [],
      "source": [
        "tokenizer.fit_on_texts([essay])"
      ]
    },
    {
      "cell_type": "code",
      "execution_count": 5,
      "metadata": {
        "colab": {
          "base_uri": "https://localhost:8080/"
        },
        "id": "WTYM82mVLaLi",
        "outputId": "813e469c-7d18-43fa-d13b-fc668ee7ac91"
      },
      "outputs": [
        {
          "output_type": "execute_result",
          "data": {
            "text/plain": [
              "649"
            ]
          },
          "metadata": {},
          "execution_count": 5
        }
      ],
      "source": [
        "len(tokenizer.word_index)"
      ]
    },
    {
      "cell_type": "code",
      "execution_count": 6,
      "metadata": {
        "colab": {
          "base_uri": "https://localhost:8080/"
        },
        "id": "vyuGZIB3LhAD",
        "outputId": "383117e3-7cf7-4d6d-b0dd-d074ef15c62b"
      },
      "outputs": [
        {
          "output_type": "stream",
          "name": "stderr",
          "text": [
            "IOPub data rate exceeded.\n",
            "The notebook server will temporarily stop sending output\n",
            "to the client in order to avoid crashing it.\n",
            "To change this limit, set the config variable\n",
            "`--NotebookApp.iopub_data_rate_limit`.\n",
            "\n",
            "Current values:\n",
            "NotebookApp.iopub_data_rate_limit=1000000.0 (bytes/sec)\n",
            "NotebookApp.rate_limit_window=3.0 (secs)\n",
            "\n"
          ]
        }
      ],
      "source": [
        "input_sequences = []\n",
        "for sentence in essay.split('.'):\n",
        "  tokenized_sentence = tokenizer.texts_to_sequences([sentence])[0]\n",
        "\n",
        "  for i in range(1,len(tokenized_sentence)):\n",
        "    input_sequences.append(tokenized_sentence[:i+1])\n",
        "  print(input_sequences)"
      ]
    },
    {
      "cell_type": "code",
      "execution_count": 7,
      "metadata": {
        "id": "-mFea8BmM4q4",
        "colab": {
          "base_uri": "https://localhost:8080/"
        },
        "outputId": "5dcd8749-543d-4fcc-e4ee-c878bf60845e"
      },
      "outputs": [
        {
          "output_type": "execute_result",
          "data": {
            "text/plain": [
              "41"
            ]
          },
          "metadata": {},
          "execution_count": 7
        }
      ],
      "source": [
        "max_len = max([len(x) for x in input_sequences])\n",
        "max_len"
      ]
    },
    {
      "cell_type": "code",
      "execution_count": 8,
      "metadata": {
        "id": "2SbYWL1nM_D1"
      },
      "outputs": [],
      "source": [
        "from tensorflow.keras.preprocessing.sequence import pad_sequences\n",
        "padded_input_sequences = pad_sequences(input_sequences, maxlen = max_len, padding='pre')"
      ]
    },
    {
      "cell_type": "code",
      "execution_count": 9,
      "metadata": {
        "colab": {
          "base_uri": "https://localhost:8080/"
        },
        "id": "VK5GrN-xNXH4",
        "outputId": "de74f882-a26e-482b-bb62-44a5d2c0e7fb"
      },
      "outputs": [
        {
          "output_type": "execute_result",
          "data": {
            "text/plain": [
              "array([ 10, 171, 280, ...,   3, 648, 649], dtype=int32)"
            ]
          },
          "metadata": {},
          "execution_count": 9
        }
      ],
      "source": [
        "X = padded_input_sequences[:,:-1]\n",
        "y = padded_input_sequences[:,-1]\n",
        "y"
      ]
    },
    {
      "cell_type": "code",
      "execution_count": 10,
      "metadata": {
        "colab": {
          "base_uri": "https://localhost:8080/"
        },
        "id": "y3F5qejtNiyW",
        "outputId": "53be9d69-bfdb-4983-c5fa-7d553ab1e5a8"
      },
      "outputs": [
        {
          "output_type": "execute_result",
          "data": {
            "text/plain": [
              "array([[0., 0., 0., ..., 0., 0., 0.],\n",
              "       [0., 0., 0., ..., 0., 0., 0.],\n",
              "       [0., 0., 0., ..., 0., 0., 0.],\n",
              "       ...,\n",
              "       [0., 0., 0., ..., 0., 0., 0.],\n",
              "       [0., 0., 0., ..., 0., 1., 0.],\n",
              "       [0., 0., 0., ..., 0., 0., 1.]], dtype=float32)"
            ]
          },
          "metadata": {},
          "execution_count": 10
        }
      ],
      "source": [
        "from tensorflow.keras.utils import to_categorical\n",
        "y = to_categorical(y,num_classes=650)\n",
        "y"
      ]
    },
    {
      "cell_type": "code",
      "execution_count": 11,
      "metadata": {
        "id": "UIzIWPceNoOm",
        "colab": {
          "base_uri": "https://localhost:8080/"
        },
        "outputId": "31e54dd3-65ec-4f6e-b59c-eec743ff88fb"
      },
      "outputs": [
        {
          "output_type": "execute_result",
          "data": {
            "text/plain": [
              "((1725, 40), (1725, 650))"
            ]
          },
          "metadata": {},
          "execution_count": 11
        }
      ],
      "source": [
        "\n",
        "X.shape,y.shape"
      ]
    },
    {
      "cell_type": "code",
      "execution_count": 34,
      "metadata": {
        "id": "D3_qPtR1PAJM"
      },
      "outputs": [],
      "source": [
        "from tensorflow.keras.models import Sequential\n",
        "from tensorflow.keras.layers import Embedding, LSTM, Dense,Input, Multiply,Softmax"
      ]
    },
    {
      "cell_type": "code",
      "execution_count": 42,
      "metadata": {
        "id": "dOWewEbBPWL8"
      },
      "outputs": [],
      "source": [
        "\n",
        "# model = Sequential()\n",
        "# model.add(Embedding(650, 150, input_length=40))\n",
        "# model.add(LSTM(150,return_sequences=True))\n",
        "# model.add(LSTM(150,return_sequences=False))\n",
        "# model.add(Dense(650, activation='softmax'))\n",
        "\n",
        "\n",
        "# Encoder\n",
        "encoder_inputs = Input(shape=(40,))\n",
        "encoder_embedding = Embedding(650, 150, input_length=40)(encoder_inputs)\n",
        "encoder_lstm = LSTM(150, return_sequences=False)(encoder_embedding)\n",
        "\n",
        "# Decoder\n",
        "# decoder_inputs = Input(shape=(40,))\n",
        "decoder_embedding = Embedding(650, 150, input_length=40)(encoder_lstm)\n",
        "decoder_lstm1 = LSTM(150, return_sequences=True)(decoder_embedding)\n",
        "dot= Multiply()([encoder_lstm,decoder_lstm1])\n",
        "dot2= Multiply()([encoder_lstm,dot])\n",
        "decoder_lstm2 = LSTM(150, return_sequences=False)(dot)\n",
        "decoder_dense = Dense(650, activation='softmax')(decoder_lstm2)"
      ]
    },
    {
      "cell_type": "code",
      "execution_count": 43,
      "metadata": {
        "id": "Jfi4NKj-P1XP"
      },
      "outputs": [],
      "source": [
        "model.compile(loss='categorical_crossentropy', optimizer='adam',metrics=['accuracy'])"
      ]
    },
    {
      "cell_type": "code",
      "execution_count": 44,
      "metadata": {
        "id": "nN-kvIr0QCgO",
        "colab": {
          "base_uri": "https://localhost:8080/"
        },
        "outputId": "9bb125d1-320c-467b-f7ed-4b93b34b1b2d"
      },
      "outputs": [
        {
          "output_type": "stream",
          "name": "stdout",
          "text": [
            "Epoch 1/50\n",
            "54/54 [==============================] - 8s 93ms/step - loss: 0.0397 - accuracy: 0.9809\n",
            "Epoch 2/50\n",
            "54/54 [==============================] - 3s 53ms/step - loss: 0.0368 - accuracy: 0.9832\n",
            "Epoch 3/50\n",
            "54/54 [==============================] - 1s 26ms/step - loss: 0.0352 - accuracy: 0.9838\n",
            "Epoch 4/50\n",
            "54/54 [==============================] - 1s 26ms/step - loss: 0.0587 - accuracy: 0.9786\n",
            "Epoch 5/50\n",
            "54/54 [==============================] - 1s 14ms/step - loss: 0.0602 - accuracy: 0.9774\n",
            "Epoch 6/50\n",
            "54/54 [==============================] - 1s 12ms/step - loss: 0.0529 - accuracy: 0.9791\n",
            "Epoch 7/50\n",
            "54/54 [==============================] - 1s 12ms/step - loss: 0.0456 - accuracy: 0.9820\n",
            "Epoch 8/50\n",
            "54/54 [==============================] - 1s 12ms/step - loss: 0.0369 - accuracy: 0.9832\n",
            "Epoch 9/50\n",
            "54/54 [==============================] - 1s 9ms/step - loss: 0.0354 - accuracy: 0.9814\n",
            "Epoch 10/50\n",
            "54/54 [==============================] - 1s 15ms/step - loss: 0.0353 - accuracy: 0.9814\n",
            "Epoch 11/50\n",
            "54/54 [==============================] - 1s 9ms/step - loss: 0.0353 - accuracy: 0.9814\n",
            "Epoch 12/50\n",
            "54/54 [==============================] - 1s 13ms/step - loss: 0.0350 - accuracy: 0.9820\n",
            "Epoch 13/50\n",
            "54/54 [==============================] - 1s 17ms/step - loss: 0.0347 - accuracy: 0.9814\n",
            "Epoch 14/50\n",
            "54/54 [==============================] - 1s 12ms/step - loss: 0.0350 - accuracy: 0.9826\n",
            "Epoch 15/50\n",
            "54/54 [==============================] - 1s 16ms/step - loss: 0.0348 - accuracy: 0.9820\n",
            "Epoch 16/50\n",
            "54/54 [==============================] - 1s 15ms/step - loss: 0.0348 - accuracy: 0.9826\n",
            "Epoch 17/50\n",
            "54/54 [==============================] - 0s 8ms/step - loss: 0.0349 - accuracy: 0.9803\n",
            "Epoch 18/50\n",
            "54/54 [==============================] - 0s 9ms/step - loss: 0.0350 - accuracy: 0.9814\n",
            "Epoch 19/50\n",
            "54/54 [==============================] - 1s 10ms/step - loss: 0.0342 - accuracy: 0.9832\n",
            "Epoch 20/50\n",
            "54/54 [==============================] - 0s 8ms/step - loss: 0.0350 - accuracy: 0.9814\n",
            "Epoch 21/50\n",
            "54/54 [==============================] - 1s 13ms/step - loss: 0.0355 - accuracy: 0.9809\n",
            "Epoch 22/50\n",
            "54/54 [==============================] - 1s 10ms/step - loss: 0.0341 - accuracy: 0.9820\n",
            "Epoch 23/50\n",
            "54/54 [==============================] - 1s 15ms/step - loss: 0.0344 - accuracy: 0.9820\n",
            "Epoch 24/50\n",
            "54/54 [==============================] - 0s 9ms/step - loss: 0.0347 - accuracy: 0.9826\n",
            "Epoch 25/50\n",
            "54/54 [==============================] - 1s 10ms/step - loss: 0.0346 - accuracy: 0.9826\n",
            "Epoch 26/50\n",
            "54/54 [==============================] - 0s 8ms/step - loss: 0.0347 - accuracy: 0.9814\n",
            "Epoch 27/50\n",
            "54/54 [==============================] - 1s 10ms/step - loss: 0.0336 - accuracy: 0.9843\n",
            "Epoch 28/50\n",
            "54/54 [==============================] - 0s 9ms/step - loss: 0.0349 - accuracy: 0.9820\n",
            "Epoch 29/50\n",
            "54/54 [==============================] - 1s 10ms/step - loss: 0.0339 - accuracy: 0.9832\n",
            "Epoch 30/50\n",
            "54/54 [==============================] - 0s 9ms/step - loss: 0.0339 - accuracy: 0.9832\n",
            "Epoch 31/50\n",
            "54/54 [==============================] - 0s 9ms/step - loss: 0.0347 - accuracy: 0.9814\n",
            "Epoch 32/50\n",
            "54/54 [==============================] - 1s 10ms/step - loss: 0.0347 - accuracy: 0.9838\n",
            "Epoch 33/50\n",
            "54/54 [==============================] - 0s 9ms/step - loss: 0.0345 - accuracy: 0.9826\n",
            "Epoch 34/50\n",
            "54/54 [==============================] - 1s 11ms/step - loss: 0.0338 - accuracy: 0.9814\n",
            "Epoch 35/50\n",
            "54/54 [==============================] - 1s 13ms/step - loss: 0.0343 - accuracy: 0.9820\n",
            "Epoch 36/50\n",
            "54/54 [==============================] - 1s 13ms/step - loss: 0.0342 - accuracy: 0.9832\n",
            "Epoch 37/50\n",
            "54/54 [==============================] - 1s 13ms/step - loss: 0.0337 - accuracy: 0.9826\n",
            "Epoch 38/50\n",
            "54/54 [==============================] - 1s 11ms/step - loss: 0.0337 - accuracy: 0.9826\n",
            "Epoch 39/50\n",
            "54/54 [==============================] - 1s 11ms/step - loss: 0.0343 - accuracy: 0.9826\n",
            "Epoch 40/50\n",
            "54/54 [==============================] - 0s 9ms/step - loss: 0.0343 - accuracy: 0.9826\n",
            "Epoch 41/50\n",
            "54/54 [==============================] - 0s 8ms/step - loss: 0.0339 - accuracy: 0.9832\n",
            "Epoch 42/50\n",
            "54/54 [==============================] - 0s 9ms/step - loss: 0.0344 - accuracy: 0.9803\n",
            "Epoch 43/50\n",
            "54/54 [==============================] - 1s 11ms/step - loss: 0.0339 - accuracy: 0.9826\n",
            "Epoch 44/50\n",
            "54/54 [==============================] - 0s 8ms/step - loss: 0.0340 - accuracy: 0.9826\n",
            "Epoch 45/50\n",
            "54/54 [==============================] - 1s 12ms/step - loss: 0.0340 - accuracy: 0.9832\n",
            "Epoch 46/50\n",
            "54/54 [==============================] - 0s 8ms/step - loss: 0.0340 - accuracy: 0.9814\n",
            "Epoch 47/50\n",
            "54/54 [==============================] - 0s 8ms/step - loss: 0.0342 - accuracy: 0.9832\n",
            "Epoch 48/50\n",
            "54/54 [==============================] - 0s 8ms/step - loss: 0.0340 - accuracy: 0.9803\n",
            "Epoch 49/50\n",
            "54/54 [==============================] - 0s 8ms/step - loss: 0.0343 - accuracy: 0.9826\n",
            "Epoch 50/50\n",
            "54/54 [==============================] - 0s 8ms/step - loss: 0.0333 - accuracy: 0.9814\n"
          ]
        },
        {
          "output_type": "execute_result",
          "data": {
            "text/plain": [
              "<keras.src.callbacks.History at 0x7d8c245ce110>"
            ]
          },
          "metadata": {},
          "execution_count": 44
        }
      ],
      "source": [
        "model.fit(X,y,epochs=50)"
      ]
    },
    {
      "cell_type": "code",
      "execution_count": 49,
      "metadata": {
        "id": "u8f2VuT9QOHL",
        "colab": {
          "base_uri": "https://localhost:8080/"
        },
        "outputId": "7710b355-c0e7-4dbd-8cf2-79334dc3aa38"
      },
      "outputs": [
        {
          "output_type": "stream",
          "name": "stdout",
          "text": [
            "1/1 [==============================] - 0s 18ms/step\n",
            "the situation is costs\n",
            "1/1 [==============================] - 0s 19ms/step\n",
            "the situation is costs of\n",
            "1/1 [==============================] - 0s 18ms/step\n",
            "the situation is costs of inaction\n",
            "1/1 [==============================] - 0s 19ms/step\n",
            "the situation is costs of inaction on\n",
            "1/1 [==============================] - 0s 18ms/step\n",
            "the situation is costs of inaction on climate\n",
            "1/1 [==============================] - 0s 18ms/step\n",
            "the situation is costs of inaction on climate change\n",
            "1/1 [==============================] - 0s 18ms/step\n",
            "the situation is costs of inaction on climate change are\n",
            "1/1 [==============================] - 0s 19ms/step\n",
            "the situation is costs of inaction on climate change are substantial\n",
            "1/1 [==============================] - 0s 23ms/step\n",
            "the situation is costs of inaction on climate change are substantial celsius\n",
            "1/1 [==============================] - 0s 21ms/step\n",
            "the situation is costs of inaction on climate change are substantial celsius above\n"
          ]
        }
      ],
      "source": [
        "import time\n",
        "text = \"the situation is\"\n",
        "\n",
        "for i in range(10):\n",
        "  # tokenize\n",
        "  token_text = tokenizer.texts_to_sequences([text])[0]\n",
        "  # padding\n",
        "  padded_token_text = pad_sequences([token_text], maxlen=40, padding='pre')\n",
        "  # predict\n",
        "  pos = np.argmax(model.predict(padded_token_text))\n",
        "\n",
        "  for word,index in tokenizer.word_index.items():\n",
        "    if index == pos:\n",
        "      text = text + \" \" + word\n",
        "      print(text)"
      ]
    },
    {
      "cell_type": "code",
      "execution_count": null,
      "metadata": {
        "id": "C5mWvoxOQwn7"
      },
      "outputs": [],
      "source": []
    }
  ],
  "metadata": {
    "accelerator": "GPU",
    "colab": {
      "provenance": [],
      "gpuType": "T4"
    },
    "kernelspec": {
      "display_name": "Python 3",
      "name": "python3"
    },
    "language_info": {
      "name": "python"
    }
  },
  "nbformat": 4,
  "nbformat_minor": 0
}