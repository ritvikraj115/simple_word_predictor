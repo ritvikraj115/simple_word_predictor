{
  "cells": [
    {
      "cell_type": "code",
      "execution_count": null,
      "metadata": {
        "id": "L8ytb6-HKee0"
      },
      "outputs": [],
      "source": [
        "essay=\"\"\"\n",
        "Introduction:\n",
        "Mahendra Singh Dhoni, fondly known as MS Dhoni, is a name that resonates with cricket enthusiasts worldwide. Born on July 7, 1981, in Ranchi, Jharkhand, Dhoni emerged as one of the most successful and admired cricketers in the history of Indian cricket. His leadership skills, calm demeanor under pressure, and remarkable achievements on the field have earned him the nickname \"Captain Cool.\"\n",
        "\n",
        "Early Life and Cricket Journey:\n",
        "Dhoni's journey into cricket began in the small town of Ranchi, where he developed a passion for the sport from a young age. Although he initially played as a goalkeeper in football and excelled in badminton, it was his natural talent for cricket that eventually took center stage. Dhoni's hard-hitting batting style and sharp wicketkeeping skills quickly caught the attention of selectors.\n",
        "\n",
        "Debut and Rise to Stardom:\n",
        "MS Dhoni made his debut for the Indian cricket team in December 2004 in an ODI against Bangladesh. His aggressive and fearless approach to batting, coupled with lightning-fast stumping behind the wickets, marked him as a player to watch. Dhoni's success in the limited-overs format paved the way for his Test debut in 2005 against Sri Lanka.\n",
        "\n",
        "Captaincy Era:\n",
        "One of the defining chapters of Dhoni's career was his appointment as the captain of the Indian cricket team in 2007. Under his leadership, India achieved unprecedented success, winning the inaugural ICC World Twenty20 in 2007 and reaching the number one ranking in Test cricket in 2009. Dhoni's calm and composed demeanor, coupled with his strategic acumen, earned him the moniker \"Captain Cool.\"\n",
        "\n",
        "2011 World Cup Triumph:\n",
        "One of the crowning moments of Dhoni's career came on April 2, 2011, when he led the Indian team to victory in the ICC Cricket World Cup. His unbeaten innings of 91 in the final against Sri Lanka, including the iconic winning six, will forever be etched in the memories of Indian cricket fans. Dhoni became the first captain to win all three major ICC trophies – World T20 (2007), ICC Test Championship (2009), and ICC Cricket World Cup (2011).\n",
        "\n",
        "Leadership Style:\n",
        "Dhoni's leadership style was characterized by his ability to keep his composure in high-pressure situations. He was known for making strategic decisions with a calm and collected demeanor, earning the trust and respect of his teammates. His captaincy not only brought success to the Indian team but also left a lasting impact on the culture of Indian cricket.\n",
        "\n",
        "Legacy and Retirement:\n",
        "\n",
        "Retired from Test cricket in 2014, ODI cricket in 2019, and T20 Internationals in 2020.\n",
        "Left a lasting impact on Indian cricket culture and inspired a generation.\n",
        "Dhoni's retirement marked the end of an era in Indian cricket.\n",
        "Contribution Beyond Cricket:\n",
        "\n",
        "Known for his humility, sportsmanship, and philanthropy.\n",
        "Active involvement in various charitable activities and initiatives.\n",
        "Dhoni's influence extended beyond the cricket field.\n",
        "Conclusion:\n",
        "\n",
        "Mahendra Singh Dhoni's journey from a small town to a cricketing legend.\n",
        "Remembered for his determination, leadership, and \"cool\" demeanor.\n",
        "Leaves a legacy that goes beyond statistics and records in Indian cricket.\n",
        "\n",
        "Brand Endorsements and Popularity:\n",
        "Dhoni's success on the field translated into lucrative brand endorsements.\n",
        "Became one of the most commercially successful and popular cricketers globally.\n",
        "The face of numerous brands, contributing to his overall iconic status.\n",
        "Helicopter Shot and Batting Prowess:\n",
        "Popularized the \"helicopter shot,\" a distinctive and powerful batting technique.\n",
        "Known for finishing matches with his aggressive yet calculated batting style.\n",
        "A versatile batsman who could adapt to various formats of the game.\n",
        "Wicketkeeping Skills:\n",
        "Excelled as a wicketkeeper, showcasing lightning-fast reflexes.\n",
        "Instrumental in effecting crucial dismissals and stumpings.\n",
        "Contributed significantly to the team's success with his skills behind the stumps.\n",
        "Cool Demeanor under Pressure:\n",
        "Dhoni's ability to remain calm under pressure became his trademark.\n",
        "Kept his composure in tense situations, instilling confidence in the team.\n",
        "Demonstrated a level-headed approach in both captaincy and individual performances.\n",
        "Captaincy Records:\n",
        "Holds the record for the most international wins as captain for India.\n",
        "Successfully led the team in numerous overseas victories.\n",
        "Under his captaincy, India achieved significant milestones and became a formidable force in world cricket.\n",
        "Inspiration to Young Cricketers:\n",
        "Dhoni's journey from a small town to cricketing stardom inspired aspiring cricketers.\n",
        "Became a role model for many young players, encouraging them to pursue their dreams.\n",
        "Contributed to the growth of cricket's popularity across different regions of India.\n",
        "Criticism and Controversies:\n",
        "Faced occasional criticism, particularly during lean periods of personal form.\n",
        "Controversies, such as the \"Monkeygate\" scandal, added a challenging dimension to his captaincy.\n",
        "Despite challenges, Dhoni's ability to handle pressure and criticism remained a hallmark of his career.\n",
        "Retirement Announcement and Emotional Farewell:\n",
        "Announced retirements from various formats through social media, sparking emotional reactions.\n",
        "Fans and fellow cricketers celebrated his contributions to Indian cricket.\n",
        "His retirement brought an end to an era, and cricket enthusiasts globally bid farewell to a true legend.\n",
        "\n",
        "Family and Personal Life:\n",
        "Married Sakshi Singh Rawat in 2010; the couple has a daughter named Ziva.\n",
        "Dhoni's private life remained relatively low-key, allowing him to focus on his cricketing career.\n",
        "The family's presence during his matches added a personal touch to his public personal.\n",
        "\"\"\""
      ]
    },
    {
      "cell_type": "code",
      "execution_count": null,
      "metadata": {
        "id": "_9ZEeuuJLD1m"
      },
      "outputs": [],
      "source": [
        "import tensorflow as tf\n",
        "import numpy as np\n",
        "from tensorflow.keras.preprocessing.text import Tokenizer"
      ]
    },
    {
      "cell_type": "code",
      "execution_count": null,
      "metadata": {
        "id": "_9r-1w0PLIX6"
      },
      "outputs": [],
      "source": [
        "tokenizer=Tokenizer()"
      ]
    },
    {
      "cell_type": "code",
      "execution_count": null,
      "metadata": {
        "id": "8REiG0ISLUql"
      },
      "outputs": [],
      "source": [
        "tokenizer.fit_on_texts([essay])"
      ]
    },
    {
      "cell_type": "code",
      "execution_count": null,
      "metadata": {
        "colab": {
          "base_uri": "https://localhost:8080/"
        },
        "id": "WTYM82mVLaLi",
        "outputId": "73cb47ff-157c-48c0-98ae-66008c6b4b51"
      },
      "outputs": [
        {
          "output_type": "execute_result",
          "data": {
            "text/plain": [
              "379"
            ]
          },
          "metadata": {},
          "execution_count": 6
        }
      ],
      "source": [
        "len(tokenizer.word_index)"
      ]
    },
    {
      "cell_type": "code",
      "execution_count": null,
      "metadata": {
        "colab": {
          "base_uri": "https://localhost:8080/"
        },
        "id": "vyuGZIB3LhAD",
        "outputId": "57372317-9430-4bf2-f0ad-0103df8a94ca"
      },
      "outputs": [
        {
          "output_type": "stream",
          "name": "stdout",
          "text": [
            "[121, 65, 46, 18, 122, 31, 12, 66, 18, 123, 5, 124, 47, 125, 14, 7, 67, 126]\n",
            "[127, 13, 128, 129, 130, 3, 68, 131, 18, 132, 12, 19, 8, 1, 48, 69, 2, 133, 20, 3, 1, 134, 8, 10, 7]\n",
            "[4, 21, 32, 33, 22, 23, 24, 2, 135, 136, 13, 1, 49, 137, 70, 34, 1, 138, 25, 35]\n",
            "[139, 50, 2, 7, 36, 9, 36, 71, 7, 140, 3, 1, 51, 52, 8, 68, 141, 37, 142, 5, 143, 11, 1, 144, 26, 5, 53, 145]\n",
            "[146, 37, 147, 148, 12, 5, 149, 3, 150, 2, 72, 3, 151, 152, 38, 4, 153, 154, 11, 7, 47, 155, 156, 157, 158]\n",
            "[9, 159, 160, 27, 39, 2, 161, 73, 32, 162, 163, 1, 164, 8, 165]\n",
            "[54, 2, 166, 6, 74, 66, 18, 167, 4, 54, 11, 1, 10, 7, 15, 3, 168, 169, 3, 40, 75, 55, 170]\n",
            "[4, 76, 2, 171, 77, 6, 27, 78, 14, 79, 80, 172, 81, 1, 173, 82, 34, 12, 5, 174, 6, 175]\n",
            "[9, 28, 3, 1, 176, 177, 178, 179, 1, 180, 11, 4, 41, 54, 3, 181, 55, 83, 84]\n",
            "[16, 56, 19, 8, 1, 182, 183, 8, 9, 42, 38, 4, 184, 12, 1, 25, 8, 1, 10, 7, 15, 3, 57]\n",
            "[23, 4, 21, 43, 85, 185, 28, 86, 1, 186, 29, 17, 187, 3, 57, 2, 188, 1, 189, 19, 190, 3, 41, 7, 3, 87]\n",
            "[9, 33, 2, 191, 22, 78, 14, 4, 88, 192, 70, 34, 1, 193, 25, 35]\n",
            "[58, 17, 59, 194, 19, 8, 1, 195, 196, 8, 9, 42, 197, 13, 198, 199, 58, 200, 37, 89, 1, 10, 15, 6, 201, 3, 1, 29, 7, 17, 59]\n",
            "[4, 202, 203, 8, 204, 3, 1, 205, 55, 83, 84, 206, 1, 90, 86, 207, 208, 209, 210, 211, 3, 1, 212, 8, 10, 7, 91]\n",
            "[18, 30, 1, 213, 25, 6, 214, 215, 216, 217, 29, 218, 219, 17, 92, 57, 29, 41, 220, 87, 2, 29, 7, 17, 59, 58]\n",
            "[21, 39, 9, 21, 39, 38, 221, 222, 4, 60, 6, 223, 4, 93, 3, 224, 24, 94]\n",
            "[37, 38, 31, 11, 225, 88, 226, 14, 5, 33, 2, 227, 22, 228, 1, 229, 2, 230, 8, 4, 231]\n",
            "[4, 16, 232, 233, 95, 28, 6, 1, 10, 15, 234, 235, 96, 5, 97, 98, 13, 1, 99, 8, 10, 7]\n",
            "[100, 2, 44, 236, 26, 41, 7, 3, 237, 75, 7, 3, 238, 2, 92, 239, 3, 240]\n",
            "[96, 5, 97, 98, 13, 10, 7, 99, 2, 101, 5, 241]\n",
            "[9, 44, 82, 1, 102, 8, 40, 56, 3, 10, 7]\n",
            "[242, 61, 7, 31, 11, 4, 243, 244, 2, 245]\n",
            "[246, 247, 3, 62, 248, 249, 2, 250]\n",
            "[9, 251, 252, 61, 1, 7, 49]\n",
            "[253, 65, 46, 9, 36, 26, 5, 51, 52, 6, 5, 63, 103]\n",
            "[254, 11, 4, 255, 21, 2, 35, 22]\n",
            "[256, 5, 100, 47, 257, 61, 258, 2, 104, 3, 10, 7]\n",
            "[105, 106, 2, 107, 9, 28, 13, 1, 49, 259, 71, 260, 105, 106]\n",
            "[30, 19, 8, 1, 48, 261, 69, 2, 262, 20, 108]\n",
            "[1, 263, 8, 109, 264, 265, 6, 4, 266, 90, 267]\n",
            "[110, 111, 2, 27, 268, 269, 1, 110, 111, 5, 270, 2, 271, 27, 272]\n",
            "[31, 11, 273, 112, 14, 4, 76, 274, 275, 27, 39]\n",
            "[5, 276, 277, 278, 279, 280, 6, 62, 113, 8, 1, 281]\n",
            "[73, 32, 72, 12, 5, 282, 283, 79, 80, 284]\n",
            "[285, 3, 286, 287, 288, 2, 289]\n",
            "[114, 290, 6, 1, 291, 28, 14, 4, 32, 81, 1, 292]\n",
            "[35, 22, 23, 24, 9, 60, 6, 293, 33, 23, 24, 30, 4, 294]\n",
            "[295, 4, 93, 3, 296, 94, 297, 298, 3, 1, 15]\n",
            "[299, 5, 300, 301, 77, 3, 302, 16, 2, 303, 304]\n",
            "[16, 104, 305, 1, 306, 11, 1, 48, 307, 308, 12, 25, 11, 43]\n",
            "[309, 89, 1, 15, 3, 109, 310, 311]\n",
            "[23, 4, 16, 43, 85, 312, 313, 2, 30, 5, 314, 315, 3, 17, 7]\n",
            "[316, 6, 53, 20, 9, 36, 26, 5, 51, 52, 6, 63, 74, 101, 317, 20]\n",
            "[30, 5, 318, 319, 11, 320, 53, 321, 322, 323, 6, 324, 325, 326]\n",
            "[114, 6, 1, 327, 8, 328, 107, 329, 330, 331, 8, 43]\n",
            "[64, 2, 115, 332, 333, 64, 334, 116, 335, 336, 8, 45, 337]\n",
            "[115, 338, 12, 1, 339, 340, 117, 5, 341, 342, 6, 4, 16]\n",
            "[343, 344, 9, 60, 6, 345, 24, 2, 64, 118, 5, 346, 8, 4, 42]\n",
            "[44, 347, 2, 119, 120, 348, 349, 26, 62, 113, 350, 351, 352, 353, 119, 354]\n",
            "[91, 2, 355, 20, 356, 4, 357, 6, 10, 7]\n",
            "[4, 44, 95, 40, 102, 6, 40, 56, 2, 7, 67, 108, 358, 120, 6, 5, 359, 103]\n",
            "[360, 2, 45, 50, 361, 362, 46, 363, 3, 364, 1, 365, 366, 5, 367, 368, 369]\n",
            "[9, 370, 50, 118, 371, 372, 373, 374, 34, 6, 375, 13, 4, 63, 42]\n",
            "[1, 376, 377, 116, 4, 112, 117, 5, 45, 378, 6, 4, 379, 45]\n",
            "[]\n"
          ]
        }
      ],
      "source": [
        "input_sequences = []\n",
        "for sentence in essay.split('.'):\n",
        "  tokenized_sentence = tokenizer.texts_to_sequences([sentence])[0]\n",
        "\n",
        "  for i in range(1,len(tokenized_sentence)):\n",
        "    input_sequences.append(tokenized_sentence[:i+1])\n",
        "  print(tokenized_sentence)"
      ]
    },
    {
      "cell_type": "code",
      "execution_count": null,
      "metadata": {
        "id": "-mFea8BmM4q4"
      },
      "outputs": [],
      "source": [
        "max_len = max([len(x) for x in input_sequences])\n"
      ]
    },
    {
      "cell_type": "code",
      "execution_count": null,
      "metadata": {
        "id": "2SbYWL1nM_D1"
      },
      "outputs": [],
      "source": [
        "from tensorflow.keras.preprocessing.sequence import pad_sequences\n",
        "padded_input_sequences = pad_sequences(input_sequences, maxlen = max_len, padding='pre')"
      ]
    },
    {
      "cell_type": "code",
      "execution_count": null,
      "metadata": {
        "colab": {
          "base_uri": "https://localhost:8080/"
        },
        "id": "VK5GrN-xNXH4",
        "outputId": "4ba9ff55-740a-4092-b54a-9d9b3294b555"
      },
      "outputs": [
        {
          "output_type": "execute_result",
          "data": {
            "text/plain": [
              "(799,)"
            ]
          },
          "metadata": {},
          "execution_count": 12
        }
      ],
      "source": [
        "X = padded_input_sequences[:,:-1]\n",
        "y = padded_input_sequences[:,-1]\n",
        "X.shape\n",
        "y.shape"
      ]
    },
    {
      "cell_type": "code",
      "execution_count": null,
      "metadata": {
        "colab": {
          "base_uri": "https://localhost:8080/"
        },
        "id": "y3F5qejtNiyW",
        "outputId": "a13571be-5b89-46f2-eb38-ad2416017bbe"
      },
      "outputs": [
        {
          "output_type": "error",
          "ename": "NameError",
          "evalue": "name 'y' is not defined",
          "traceback": [
            "\u001b[0;31m---------------------------------------------------------------------------\u001b[0m",
            "\u001b[0;31mNameError\u001b[0m                                 Traceback (most recent call last)",
            "\u001b[0;32m<ipython-input-10-1d2752c9bc5e>\u001b[0m in \u001b[0;36m<cell line: 2>\u001b[0;34m()\u001b[0m\n\u001b[1;32m      1\u001b[0m \u001b[0;32mfrom\u001b[0m \u001b[0mtensorflow\u001b[0m\u001b[0;34m.\u001b[0m\u001b[0mkeras\u001b[0m\u001b[0;34m.\u001b[0m\u001b[0mutils\u001b[0m \u001b[0;32mimport\u001b[0m \u001b[0mto_categorical\u001b[0m\u001b[0;34m\u001b[0m\u001b[0;34m\u001b[0m\u001b[0m\n\u001b[0;32m----> 2\u001b[0;31m \u001b[0my\u001b[0m \u001b[0;34m=\u001b[0m \u001b[0mto_categorical\u001b[0m\u001b[0;34m(\u001b[0m\u001b[0my\u001b[0m\u001b[0;34m,\u001b[0m\u001b[0mnum_classes\u001b[0m\u001b[0;34m=\u001b[0m\u001b[0;36m381\u001b[0m\u001b[0;34m)\u001b[0m\u001b[0;34m\u001b[0m\u001b[0;34m\u001b[0m\u001b[0m\n\u001b[0m\u001b[1;32m      3\u001b[0m \u001b[0my\u001b[0m\u001b[0;34m\u001b[0m\u001b[0;34m\u001b[0m\u001b[0m\n",
            "\u001b[0;31mNameError\u001b[0m: name 'y' is not defined"
          ]
        }
      ],
      "source": [
        "from tensorflow.keras.utils import to_categorical\n",
        "y = to_categorical(y,num_classes=381)\n",
        "y"
      ]
    },
    {
      "cell_type": "code",
      "execution_count": null,
      "metadata": {
        "id": "UIzIWPceNoOm"
      },
      "outputs": [],
      "source": [
        "y.shape\n",
        "X.shape"
      ]
    },
    {
      "cell_type": "code",
      "execution_count": null,
      "metadata": {
        "id": "D3_qPtR1PAJM"
      },
      "outputs": [],
      "source": [
        "from tensorflow.keras.models import Sequential\n",
        "from tensorflow.keras.layers import Embedding, LSTM, Dense"
      ]
    },
    {
      "cell_type": "code",
      "execution_count": null,
      "metadata": {
        "id": "dOWewEbBPWL8"
      },
      "outputs": [],
      "source": [
        "model = Sequential()\n",
        "model.add(Embedding(381, 150, input_length=30))\n",
        "model.add(LSTM(200))\n",
        "model.add(Dense(381, activation='softmax'))"
      ]
    },
    {
      "cell_type": "code",
      "execution_count": null,
      "metadata": {
        "id": "Jfi4NKj-P1XP"
      },
      "outputs": [],
      "source": [
        "model.compile(loss='categorical_crossentropy', optimizer='adam',metrics=['accuracy'])"
      ]
    },
    {
      "cell_type": "code",
      "execution_count": null,
      "metadata": {
        "id": "nN-kvIr0QCgO"
      },
      "outputs": [],
      "source": [
        "model.fit(X,y,epochs=120)"
      ]
    },
    {
      "cell_type": "code",
      "execution_count": null,
      "metadata": {
        "id": "u8f2VuT9QOHL"
      },
      "outputs": [],
      "source": [
        "import time\n",
        "text = \"Retired from\"\n",
        "\n",
        "for i in range(20):\n",
        "  # tokenize\n",
        "  token_text = tokenizer.texts_to_sequences([text])[0]\n",
        "  # padding\n",
        "  padded_token_text = pad_sequences([token_text], maxlen=30, padding='pre')\n",
        "  # predict\n",
        "  pos = np.argmax(model.predict(padded_token_text))\n",
        "\n",
        "  for word,index in tokenizer.word_index.items():\n",
        "    if index == pos:\n",
        "      text = text + \" \" + word\n",
        "      print(text)"
      ]
    },
    {
      "cell_type": "code",
      "execution_count": null,
      "metadata": {
        "id": "C5mWvoxOQwn7"
      },
      "outputs": [],
      "source": []
    }
  ],
  "metadata": {
    "accelerator": "GPU",
    "colab": {
      "provenance": []
    },
    "kernelspec": {
      "display_name": "Python 3",
      "name": "python3"
    },
    "language_info": {
      "name": "python"
    }
  },
  "nbformat": 4,
  "nbformat_minor": 0
}